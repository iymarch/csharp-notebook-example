{
 "cells": [
  {
   "cell_type": "markdown",
   "metadata": {
    "nbgrader": {
     "grade": false,
     "grade_id": "cell-4b5b0c2789eee959",
     "locked": true,
     "schema_version": 3,
     "solution": false,
     "task": false
    }
   },
   "source": [
    "<h2>Задание 1</h2>\n",
    "<p>Напишите реализацию функции EqualSum, которая принимает два списка и возращает список, состоящий из общих элементов для этих двух списков</p>\n",
    "<p><b>Input:</b></p>\n",
    "[1, 1, 2, 3, 5]; <br>\n",
    "[1, 2, 3, 4, 5, 6, 7, 8, 9, 10, 11, 12, 13];\n",
    "<p><b>Output:</b></p>\n",
    "[1, 1, 2, 3, 5]"
   ]
  },
  {
   "cell_type": "code",
   "execution_count": 2,
   "metadata": {
    "nbgrader": {
     "grade": false,
     "grade_id": "cell-a5a87bb283dbd697",
     "locked": false,
     "schema_version": 3,
     "solution": true,
     "task": false
    }
   },
   "outputs": [],
   "source": [
    "def EqualSum(a: list, b: list) -> list:\n",
    "    # BEGIN SOLUTION\n",
    "    return list(filter(lambda elem: elem in b, a))\n",
    "    # END SOLUTION\n",
    "    "
   ]
  },
  {
   "cell_type": "markdown",
   "metadata": {
    "nbgrader": {
     "grade": false,
     "grade_id": "cell-cbb0dd14f1927161",
     "locked": true,
     "schema_version": 3,
     "solution": false,
     "task": false
    }
   },
   "source": [
    "<p>Проверьте правильность решения:</p>"
   ]
  },
  {
   "cell_type": "code",
   "execution_count": 6,
   "metadata": {
    "nbgrader": {
     "grade": true,
     "grade_id": "cell-01e18587ddd21392",
     "locked": true,
     "points": 1,
     "schema_version": 3,
     "solution": false,
     "task": false
    }
   },
   "outputs": [
    {
     "name": "stdout",
     "output_type": "stream",
     "text": [
      "[1, 1, 2, 3, 5]\n"
     ]
    }
   ],
   "source": [
    "print(EqualSum([1, 1, 2, 3, 5], [1, 2, 3, 4, 5, 6, 7, 8, 9, 10, 11, 12, 13]))\n",
    "# BEGIN HIDDEN TESTS\n",
    "assert(EqualSum([1, 1, 2, 3, 5], [1, 2, 3, 4, 5, 6, 7, 8, 9, 10, 11, 12, 13]) == [1, 1, 2, 3, 5])\n",
    "assert(EqualSum([1, 1, 2, 3, 5], [1, 2, 3, 4]) == [1, 1, 2, 3])\n",
    "# END HIDDEN TESTS"
   ]
  },
  {
   "cell_type": "markdown",
   "metadata": {
    "nbgrader": {
     "grade": false,
     "grade_id": "cell-45b54002d85050b7",
     "locked": true,
     "schema_version": 3,
     "solution": false,
     "task": false
    }
   },
   "source": [
    "<h1>Задание 2</h1>\n",
    "<p>Реализуйте функцию is_palindrome, проверяющую является ли строка паллиндромом. Палиндром — это слово или фраза, которые одинаково читаются слева направо и справа налево.</p>\n",
    "<p><b>Input:</b></p>\n",
    "'abba'\n",
    "<p><b>Output:</b></p>\n",
    "True\n"
   ]
  },
  {
   "cell_type": "code",
   "execution_count": 8,
   "metadata": {
    "nbgrader": {
     "grade": false,
     "grade_id": "cell-5c28fa4e83f5c0ef",
     "locked": false,
     "schema_version": 3,
     "solution": true,
     "task": false
    }
   },
   "outputs": [],
   "source": [
    "def is_palindrome(string):\n",
    "    # BEGIN SOLUTION\n",
    "    return string == ''.join(reversed(string))\n",
    "    # END SOLUTION\n"
   ]
  },
  {
   "cell_type": "markdown",
   "metadata": {
    "nbgrader": {
     "grade": false,
     "grade_id": "cell-6f1376d6cf25f53c",
     "locked": true,
     "schema_version": 3,
     "solution": false,
     "task": false
    }
   },
   "source": [
    "<p>Проверьте правильность решения:</p>"
   ]
  },
  {
   "cell_type": "code",
   "execution_count": 10,
   "metadata": {
    "nbgrader": {
     "grade": true,
     "grade_id": "cell-5b65b13fab11adb1",
     "locked": true,
     "points": 2,
     "schema_version": 3,
     "solution": false,
     "task": false
    }
   },
   "outputs": [
    {
     "name": "stdout",
     "output_type": "stream",
     "text": [
      "True\n"
     ]
    }
   ],
   "source": [
    "print(is_palindrome('abba'))\n",
    "# BEGIN HIDDEN TESTS\n",
    "assert(is_palindrome('abba') == True)\n",
    "assert(is_palindrome('test') == False)\n",
    "# END HIDDEN TESTS"
   ]
  },
  {
   "cell_type": "code",
   "execution_count": null,
   "metadata": {},
   "outputs": [],
   "source": []
  }
 ],
 "metadata": {
  "celltoolbar": "Create Assignment",
  "kernelspec": {
   "display_name": "Python 3",
   "language": "python",
   "name": "python3"
  },
  "language_info": {
   "codemirror_mode": {
    "name": "ipython",
    "version": 3
   },
   "file_extension": ".py",
   "mimetype": "text/x-python",
   "name": "python",
   "nbconvert_exporter": "python",
   "pygments_lexer": "ipython3",
   "version": "3.5.2"
  }
 },
 "nbformat": 4,
 "nbformat_minor": 4
}
