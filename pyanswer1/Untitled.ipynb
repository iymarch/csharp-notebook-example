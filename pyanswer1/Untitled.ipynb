{
 "cells": [
  {
   "cell_type": "markdown",
   "metadata": {},
   "source": [
    "Before you turn this problem in, make sure everything runs as expected. First, **restart the kernel** (in the menubar, select Kernel$\\rightarrow$Restart) and then **run all cells** (in the menubar, select Cell$\\rightarrow$Run All).\n",
    "\n",
    "Make sure you fill in any place that says `YOUR CODE HERE` or \"YOUR ANSWER HERE\", as well as your name and collaborators below:"
   ]
  },
  {
   "cell_type": "code",
   "execution_count": null,
   "metadata": {},
   "outputs": [],
   "source": [
    "NAME = \"\"\n",
    "COLLABORATORS = \"\""
   ]
  },
  {
   "cell_type": "markdown",
   "metadata": {},
   "source": [
    "---"
   ]
  },
  {
   "cell_type": "markdown",
   "metadata": {
    "deletable": false,
    "editable": false,
    "nbgrader": {
     "cell_type": "markdown",
     "checksum": "e6eedb7828f3019f23f4cb5c302c6571",
     "grade": false,
     "grade_id": "cell-4b5b0c2789eee959",
     "locked": true,
     "schema_version": 3,
     "solution": false,
     "task": false
    }
   },
   "source": [
    "<h2>Задание 1</h2>\n",
    "<p>Напишите реализацию функции EqualSum, которая принимает два списка и возращает список, состоящий из общих элементов для этих двух списков</p>\n",
    "<p><b>Input:</b></p>\n",
    "[1, 1, 2, 3, 5]; <br>\n",
    "[1, 2, 3, 4, 5, 6, 7, 8, 9, 10, 11, 12, 13];\n",
    "<p><b>Output:</b></p>\n",
    "[1, 1, 2, 3, 5]"
   ]
  },
  {
   "cell_type": "code",
   "execution_count": null,
   "metadata": {
    "deletable": false,
    "nbgrader": {
     "cell_type": "code",
     "checksum": "68a57c8344e4d2a2bd2745a580d8335b",
     "grade": false,
     "grade_id": "cell-a5a87bb283dbd697",
     "locked": false,
     "schema_version": 3,
     "solution": true,
     "task": false
    }
   },
   "outputs": [],
   "source": [
    "def EqualSum(a: list, b: list) -> list:\n",
    "    # YOUR CODE HERE\n",
    "    raise NotImplementedError()\n",
    "    "
   ]
  },
  {
   "cell_type": "markdown",
   "metadata": {
    "deletable": false,
    "editable": false,
    "nbgrader": {
     "cell_type": "markdown",
     "checksum": "aca0d3454c3703dabd0951c6e9b61dfa",
     "grade": false,
     "grade_id": "cell-cbb0dd14f1927161",
     "locked": true,
     "schema_version": 3,
     "solution": false,
     "task": false
    }
   },
   "source": [
    "<p>Проверьте правильность решения:</p>"
   ]
  },
  {
   "cell_type": "code",
   "execution_count": null,
   "metadata": {
    "deletable": false,
    "editable": false,
    "nbgrader": {
     "cell_type": "code",
     "checksum": "f97f1eb04fddcb6a591a29d8f705396b",
     "grade": true,
     "grade_id": "cell-01e18587ddd21392",
     "locked": true,
     "points": 1,
     "schema_version": 3,
     "solution": false,
     "task": false
    }
   },
   "outputs": [],
   "source": [
    "print(EqualSum([1, 1, 2, 3, 5], [1, 2, 3, 4, 5, 6, 7, 8, 9, 10, 11, 12, 13]))"
   ]
  },
  {
   "cell_type": "markdown",
   "metadata": {
    "deletable": false,
    "editable": false,
    "nbgrader": {
     "cell_type": "markdown",
     "checksum": "8974b5133791be2d0d14a538e9e1a620",
     "grade": false,
     "grade_id": "cell-45b54002d85050b7",
     "locked": true,
     "schema_version": 3,
     "solution": false,
     "task": false
    }
   },
   "source": [
    "<h1>Задание 2</h1>\n",
    "<p>Реализуйте функцию is_palindrome, проверяющую является ли строка паллиндромом. Палиндром — это слово или фраза, которые одинаково читаются слева направо и справа налево.</p>\n",
    "<p><b>Input:</b></p>\n",
    "'abba'\n",
    "<p><b>Output:</b></p>\n",
    "True\n"
   ]
  },
  {
   "cell_type": "code",
   "execution_count": null,
   "metadata": {
    "deletable": false,
    "nbgrader": {
     "cell_type": "code",
     "checksum": "770a5fbb223226a67a678c20a8a722f8",
     "grade": false,
     "grade_id": "cell-5c28fa4e83f5c0ef",
     "locked": false,
     "schema_version": 3,
     "solution": true,
     "task": false
    }
   },
   "outputs": [],
   "source": [
    "def is_palindrome(string):\n",
    "    # YOUR CODE HERE\n",
    "    raise NotImplementedError()\n"
   ]
  },
  {
   "cell_type": "markdown",
   "metadata": {
    "deletable": false,
    "editable": false,
    "nbgrader": {
     "cell_type": "markdown",
     "checksum": "166e8e7df3be530033c9d36434467cdd",
     "grade": false,
     "grade_id": "cell-6f1376d6cf25f53c",
     "locked": true,
     "schema_version": 3,
     "solution": false,
     "task": false
    }
   },
   "source": [
    "<p>Проверьте правильность решения:</p>"
   ]
  },
  {
   "cell_type": "code",
   "execution_count": null,
   "metadata": {
    "deletable": false,
    "editable": false,
    "nbgrader": {
     "cell_type": "code",
     "checksum": "1ef3dd1b18bb347f7fd1dddec51d5884",
     "grade": true,
     "grade_id": "cell-5b65b13fab11adb1",
     "locked": true,
     "points": 2,
     "schema_version": 3,
     "solution": false,
     "task": false
    }
   },
   "outputs": [],
   "source": [
    "print(is_palindrome('abba'))"
   ]
  },
  {
   "cell_type": "code",
   "execution_count": null,
   "metadata": {},
   "outputs": [],
   "source": []
  }
 ],
 "metadata": {
  "kernelspec": {
   "display_name": "Python 3",
   "language": "python",
   "name": "python3"
  },
  "language_info": {
   "codemirror_mode": {
    "name": "ipython",
    "version": 3
   },
   "file_extension": ".py",
   "mimetype": "text/x-python",
   "name": "python",
   "nbconvert_exporter": "python",
   "pygments_lexer": "ipython3",
   "version": "3.5.2"
  }
 },
 "nbformat": 4,
 "nbformat_minor": 4
}
