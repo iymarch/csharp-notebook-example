{
 "cells": [
  {
   "cell_type": "markdown",
   "metadata": {},
   "source": [
    "Before you turn this problem in, make sure everything runs as expected. First, **restart the kernel** (in the menubar, select Kernel$\\rightarrow$Restart) and then **run all cells** (in the menubar, select Cell$\\rightarrow$Run All).\n",
    "\n",
    "Make sure you fill in any place that says `YOUR CODE HERE` or \"YOUR ANSWER HERE\", as well as your name and collaborators below:"
   ]
  },
  {
   "cell_type": "code",
   "execution_count": null,
   "metadata": {},
   "outputs": [],
   "source": [
    "NAME = \"\"\n",
    "COLLABORATORS = \"\""
   ]
  },
  {
   "cell_type": "markdown",
   "metadata": {},
   "source": [
    "---"
   ]
  },
  {
   "cell_type": "markdown",
   "metadata": {
    "deletable": false,
    "editable": false,
    "nbgrader": {
     "cell_type": "markdown",
     "checksum": "9c830e3d64e4e59f43be3b2b752b8d67",
     "grade": false,
     "grade_id": "cell-2a0d49f561c55c0d",
     "locked": true,
     "schema_version": 3,
     "solution": false,
     "task": false
    }
   },
   "source": [
    "<h2>Задание 1</h2>\n",
    "<p>В классе Example реализовать метод Enumerator, возвращающий нечетные числа в промежутке [start, end].</p>\n",
    "<p><b>Input:</b><br>\n",
    "    Example.OddSequence(2, 10)\n",
    "</p>\n",
    "<p><b>Output:</b>\n",
    "<table style=\"float:left\"><thead><tr><th><i>index</i></th><th>value</th></tr></thead><tbody><tr><td>0</td><td>3</td></tr><tr><td>1</td><td>5</td></tr><tr><td>2</td><td>7</td></tr><tr><td>3</td><td>9</td></tr></tbody></table>\n",
    "\n",
    "</p>"
   ]
  },
  {
   "cell_type": "code",
   "execution_count": null,
   "metadata": {
    "deletable": false,
    "nbgrader": {
     "cell_type": "code",
     "checksum": "5cd1bbfb1ed92e00a9f99c20ced41eb8",
     "grade": false,
     "grade_id": "cell-f1b81e3926da754c",
     "locked": false,
     "schema_version": 3,
     "solution": true,
     "task": false
    }
   },
   "outputs": [],
   "source": [
    "using System;\n",
    "using System.Collections.Generic;\n",
    "\n",
    "class Example\n",
    "{\n",
    "   static void Main()\n",
    "   {\n",
    "      IEnumerable<int> ienum = OddSequence(50, 110); \n",
    "      Console.WriteLine(\"Retrieved enumerator...\");\n",
    "      \n",
    "      foreach (var i in ienum)\n",
    "      {\n",
    "         Console.Write($\"{i}\");\n",
    "      }\n",
    "   }\n",
    "\n",
    "   public static IEnumerable<int> OddSequence(int start, int end)\n",
    "   {\n",
    "      if (start < 0 || start > 99)\n",
    "         throw new ArgumentOutOfRangeException(\"start must be between 0 and 99.\");\n",
    "      if (end > 100)\n",
    "         throw new ArgumentOutOfRangeException(\"end must be less than or equal to 100.\"); \n",
    "      if (start >= end)\n",
    "         throw new ArgumentException(\"start must be less than end.\");\n",
    "         \n",
    "      return Enumerator();\n",
    "      \n",
    "      IEnumerable<int> Enumerator()\n",
    "      {\n",
    "        // YOUR CODE HERE\n",
    "      }\n",
    "   }\n",
    "}"
   ]
  },
  {
   "cell_type": "markdown",
   "metadata": {
    "deletable": false,
    "editable": false,
    "nbgrader": {
     "cell_type": "markdown",
     "checksum": "42e9910a577e77ef01f879e6d8f96ece",
     "grade": false,
     "grade_id": "cell-2cab7d50d3672465",
     "locked": true,
     "schema_version": 3,
     "solution": false,
     "task": false
    }
   },
   "source": [
    "<p>Проверьте правильность решения:</p>"
   ]
  },
  {
   "cell_type": "code",
   "execution_count": null,
   "metadata": {
    "deletable": false,
    "editable": false,
    "nbgrader": {
     "cell_type": "code",
     "checksum": "e82b323290cde8e96152778c85c926f4",
     "grade": true,
     "grade_id": "cell-ab2d0d4b34b6cd22",
     "locked": true,
     "points": 0,
     "schema_version": 3,
     "solution": false,
     "task": false
    }
   },
   "outputs": [],
   "source": [
    "Example.OddSequence(2, 10)\n"
   ]
  }
 ],
 "metadata": {
  "kernelspec": {
   "display_name": ".NET (C#)",
   "language": "C#",
   "name": ".net-csharp"
  },
  "language_info": {
   "file_extension": ".cs",
   "mimetype": "text/x-csharp",
   "name": "C#",
   "pygments_lexer": "csharp",
   "version": "8.0"
  }
 },
 "nbformat": 4,
 "nbformat_minor": 4
}
