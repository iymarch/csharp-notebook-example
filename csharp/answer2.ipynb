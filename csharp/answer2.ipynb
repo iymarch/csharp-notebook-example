{
 "cells": [
  {
   "cell_type": "markdown",
   "metadata": {
    "deletable": false,
    "editable": false,
    "nbgrader": {
     "cell_type": "markdown",
     "checksum": "198698cd2e76d789308b3ff615ede5ec",
     "grade": false,
     "grade_id": "cell-e03eae4a98460c2d",
     "locked": true,
     "schema_version": 3,
     "solution": false,
     "task": false
    }
   },
   "source": [
    "<h1>Задание 2</h1>\n",
    "<p>Напишите реализацию метода TotalAllEvenNumbers, который возвращает сумму всех четных чисел в массиве.</p>\n",
    "<p><b>Input:</b></p>\n",
    "new int[]{1, 2, 3, 4, 4}\n",
    "<p><b>Output:</b></p>\n",
    "10"
   ]
  },
  {
   "cell_type": "code",
   "execution_count": null,
   "metadata": {
    "deletable": false,
    "nbgrader": {
     "cell_type": "code",
     "checksum": "179a025db63ab610270c93a5957f7236",
     "grade": false,
     "grade_id": "cell-2a918f2f49b96d4c",
     "locked": false,
     "schema_version": 3,
     "solution": true,
     "task": false
    }
   },
   "outputs": [],
   "source": [
    "static long TotalAllEvenNumbers(int[] intArray) {\n",
    "    // YOUR CODE HERE\n",
    "}"
   ]
  },
  {
   "cell_type": "markdown",
   "metadata": {
    "deletable": false,
    "editable": false,
    "nbgrader": {
     "cell_type": "markdown",
     "checksum": "9341512d104aede71f48c1cedceb2179",
     "grade": false,
     "grade_id": "cell-02146e4845f83eb9",
     "locked": true,
     "schema_version": 3,
     "solution": false,
     "task": false
    }
   },
   "source": [
    "<p>Проверьте правильность решения</p>"
   ]
  },
  {
   "cell_type": "code",
   "execution_count": null,
   "metadata": {
    "deletable": false,
    "editable": false,
    "nbgrader": {
     "cell_type": "code",
     "checksum": "3864df5552c79fa68cebf68466be7bb6",
     "grade": true,
     "grade_id": "cell-e154316760525a8f",
     "locked": true,
     "points": 1,
     "schema_version": 3,
     "solution": false,
     "task": false
    }
   },
   "outputs": [],
   "source": [
    "Console.Write(TotalAllEvenNumbers(new int[]{1, 2, 3, 4, 4}));"
   ]
  }
 ],
 "metadata": {
  "kernelspec": {
   "display_name": ".NET (C#)",
   "language": "C#",
   "name": ".net-csharp"
  },
  "language_info": {
   "file_extension": ".cs",
   "mimetype": "text/x-csharp",
   "name": "C#",
   "pygments_lexer": "csharp",
   "version": "8.0"
  }
 },
 "nbformat": 4,
 "nbformat_minor": 4
}
